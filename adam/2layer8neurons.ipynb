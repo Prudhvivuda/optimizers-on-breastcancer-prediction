{
 "cells": [
  {
   "cell_type": "code",
   "execution_count": 31,
   "metadata": {
    "id": "nn_DPtIbq7ru"
   },
   "outputs": [],
   "source": [
    "from keras.models import Sequential\n",
    "from keras.layers import Dense\n",
    "from sklearn.model_selection import train_test_split\n",
    "import numpy as np\n",
    "np.random.seed(1337)"
   ]
  },
  {
   "cell_type": "code",
   "execution_count": 32,
   "metadata": {
    "id": "nockS_3Jq8ve"
   },
   "outputs": [],
   "source": [
    "import numpy as np\n",
    "import pandas as pd\n",
    "from sklearn.preprocessing import StandardScaler\n",
    "from pandas.plotting import scatter_matrix\n",
    "from sklearn.metrics import classification_report"
   ]
  },
  {
   "cell_type": "code",
   "execution_count": 33,
   "metadata": {
    "id": "UR7AiwC_rIyK"
   },
   "outputs": [],
   "source": [
    "df=pd.read_csv(\"/content/pathway data set1111.csv\")"
   ]
  },
  {
   "cell_type": "code",
   "execution_count": 34,
   "metadata": {
    "id": "4MpKpxO_rNDN"
   },
   "outputs": [],
   "source": [
    "df=df.drop([\"Unnamed: 11\"],axis=1)\n",
    "df=df.drop([\"Unnamed: 12\"],axis=1)\n",
    "df=df.drop([\"Unnamed: 13\"],axis=1)"
   ]
  },
  {
   "cell_type": "code",
   "execution_count": 35,
   "metadata": {
    "colab": {
     "base_uri": "https://localhost:8080/"
    },
    "id": "gNjYSr9crayo",
    "outputId": "b6b6be5a-1665-4d26-b275-af4f1d5d61e2"
   },
   "outputs": [
    {
     "name": "stdout",
     "output_type": "stream",
     "text": [
      "    path   c1   c2   c3   c4   c5    c6   c7   c8   c9 Outcome\n",
      "0      1  5.5  1.5  1.5  1.5  2.5   1.5  3.5  1.5  1.5      no\n",
      "1      1  5.5  4.5  4.5  5.5  7.5  10.5  3.5  2.5  1.5     yes\n",
      "2      1  3.5  1.5  1.5  1.5  2.5   2.5  3.5  1.5  1.5      no\n",
      "3      1  6.5  8.5  8.5  1.5  3.5   4.5  3.5  7.5  1.5     yes\n",
      "4      1  4.5  1.5  1.5  3.5  2.5   1.5  3.5  1.5  1.5      no\n",
      "..   ...  ...  ...  ...  ...  ...   ...  ...  ...  ...     ...\n",
      "595    8  5.5  1.5  1.5  1.5  2.5   1.5  2.5  1.5  1.5     yes\n",
      "596    8  4.5  1.5  2.5  1.5  2.5   1.5  2.5  1.5  1.5      no\n",
      "597    8  5.5  1.5  3.5  1.5  2.5   1.5  3.5  1.5  1.5     yes\n",
      "598    8  3.5  1.5  1.5  1.5  2.5   1.5  2.5  1.5  1.5      no\n",
      "599    8  5.5  2.5  4.5  1.5  1.5   1.5  1.5  1.5  1.5     yes\n",
      "\n",
      "[600 rows x 11 columns]\n"
     ]
    },
    {
     "name": "stderr",
     "output_type": "stream",
     "text": [
      "/usr/local/lib/python3.6/dist-packages/ipykernel_launcher.py:1: SettingWithCopyWarning: \n",
      "A value is trying to be set on a copy of a slice from a DataFrame\n",
      "\n",
      "See the caveats in the documentation: https://pandas.pydata.org/pandas-docs/stable/user_guide/indexing.html#returning-a-view-versus-a-copy\n",
      "  \"\"\"Entry point for launching an IPython kernel.\n",
      "/usr/local/lib/python3.6/dist-packages/ipykernel_launcher.py:2: SettingWithCopyWarning: \n",
      "A value is trying to be set on a copy of a slice from a DataFrame\n",
      "\n",
      "See the caveats in the documentation: https://pandas.pydata.org/pandas-docs/stable/user_guide/indexing.html#returning-a-view-versus-a-copy\n",
      "  \n",
      "/usr/local/lib/python3.6/dist-packages/ipykernel_launcher.py:3: SettingWithCopyWarning: \n",
      "A value is trying to be set on a copy of a slice from a DataFrame\n",
      "\n",
      "See the caveats in the documentation: https://pandas.pydata.org/pandas-docs/stable/user_guide/indexing.html#returning-a-view-versus-a-copy\n",
      "  This is separate from the ipykernel package so we can avoid doing imports until\n",
      "/usr/local/lib/python3.6/dist-packages/ipykernel_launcher.py:4: SettingWithCopyWarning: \n",
      "A value is trying to be set on a copy of a slice from a DataFrame\n",
      "\n",
      "See the caveats in the documentation: https://pandas.pydata.org/pandas-docs/stable/user_guide/indexing.html#returning-a-view-versus-a-copy\n",
      "  after removing the cwd from sys.path.\n",
      "/usr/local/lib/python3.6/dist-packages/ipykernel_launcher.py:5: SettingWithCopyWarning: \n",
      "A value is trying to be set on a copy of a slice from a DataFrame\n",
      "\n",
      "See the caveats in the documentation: https://pandas.pydata.org/pandas-docs/stable/user_guide/indexing.html#returning-a-view-versus-a-copy\n",
      "  \"\"\"\n",
      "/usr/local/lib/python3.6/dist-packages/ipykernel_launcher.py:6: SettingWithCopyWarning: \n",
      "A value is trying to be set on a copy of a slice from a DataFrame\n",
      "\n",
      "See the caveats in the documentation: https://pandas.pydata.org/pandas-docs/stable/user_guide/indexing.html#returning-a-view-versus-a-copy\n",
      "  \n",
      "/usr/local/lib/python3.6/dist-packages/ipykernel_launcher.py:7: SettingWithCopyWarning: \n",
      "A value is trying to be set on a copy of a slice from a DataFrame\n",
      "\n",
      "See the caveats in the documentation: https://pandas.pydata.org/pandas-docs/stable/user_guide/indexing.html#returning-a-view-versus-a-copy\n",
      "  import sys\n",
      "/usr/local/lib/python3.6/dist-packages/ipykernel_launcher.py:8: SettingWithCopyWarning: \n",
      "A value is trying to be set on a copy of a slice from a DataFrame\n",
      "\n",
      "See the caveats in the documentation: https://pandas.pydata.org/pandas-docs/stable/user_guide/indexing.html#returning-a-view-versus-a-copy\n",
      "  \n"
     ]
    }
   ],
   "source": [
    "df.path[df.path ==\"AKT\"] =1\n",
    "df.path[df.path ==\"FASL\"] =2\n",
    "df.path[df.path ==\"MAPK\"] =3\n",
    "df.path[df.path ==\"NOTCH\"] =4\n",
    "df.path[df.path ==\"SHH\"]=5\n",
    "df.path[df.path ==\"TNF\"] =6\n",
    "df.path[df.path ==\"WNT\"] =7\n",
    "df.path[df.path ==\"MTOR\"] =8\n",
    "print(df)"
   ]
  },
  {
   "cell_type": "code",
   "execution_count": 36,
   "metadata": {
    "colab": {
     "base_uri": "https://localhost:8080/",
     "height": 600
    },
    "id": "Ly4Gq4jrrdyh",
    "outputId": "7ff910d4-4b43-48ab-f20f-cf43c589fe23"
   },
   "outputs": [
    {
     "name": "stderr",
     "output_type": "stream",
     "text": [
      "/usr/local/lib/python3.6/dist-packages/ipykernel_launcher.py:1: SettingWithCopyWarning: \n",
      "A value is trying to be set on a copy of a slice from a DataFrame\n",
      "\n",
      "See the caveats in the documentation: https://pandas.pydata.org/pandas-docs/stable/user_guide/indexing.html#returning-a-view-versus-a-copy\n",
      "  \"\"\"Entry point for launching an IPython kernel.\n",
      "/usr/local/lib/python3.6/dist-packages/ipykernel_launcher.py:2: SettingWithCopyWarning: \n",
      "A value is trying to be set on a copy of a slice from a DataFrame\n",
      "\n",
      "See the caveats in the documentation: https://pandas.pydata.org/pandas-docs/stable/user_guide/indexing.html#returning-a-view-versus-a-copy\n",
      "  \n"
     ]
    },
    {
     "data": {
      "text/html": [
       "<div>\n",
       "<style scoped>\n",
       "    .dataframe tbody tr th:only-of-type {\n",
       "        vertical-align: middle;\n",
       "    }\n",
       "\n",
       "    .dataframe tbody tr th {\n",
       "        vertical-align: top;\n",
       "    }\n",
       "\n",
       "    .dataframe thead th {\n",
       "        text-align: right;\n",
       "    }\n",
       "</style>\n",
       "<table border=\"1\" class=\"dataframe\">\n",
       "  <thead>\n",
       "    <tr style=\"text-align: right;\">\n",
       "      <th></th>\n",
       "      <th>path</th>\n",
       "      <th>c1</th>\n",
       "      <th>c2</th>\n",
       "      <th>c3</th>\n",
       "      <th>c4</th>\n",
       "      <th>c5</th>\n",
       "      <th>c6</th>\n",
       "      <th>c7</th>\n",
       "      <th>c8</th>\n",
       "      <th>c9</th>\n",
       "      <th>Outcome</th>\n",
       "    </tr>\n",
       "  </thead>\n",
       "  <tbody>\n",
       "    <tr>\n",
       "      <th>0</th>\n",
       "      <td>1</td>\n",
       "      <td>5.5</td>\n",
       "      <td>1.5</td>\n",
       "      <td>1.5</td>\n",
       "      <td>1.5</td>\n",
       "      <td>2.5</td>\n",
       "      <td>1.5</td>\n",
       "      <td>3.5</td>\n",
       "      <td>1.5</td>\n",
       "      <td>1.5</td>\n",
       "      <td>0</td>\n",
       "    </tr>\n",
       "    <tr>\n",
       "      <th>1</th>\n",
       "      <td>1</td>\n",
       "      <td>5.5</td>\n",
       "      <td>4.5</td>\n",
       "      <td>4.5</td>\n",
       "      <td>5.5</td>\n",
       "      <td>7.5</td>\n",
       "      <td>10.5</td>\n",
       "      <td>3.5</td>\n",
       "      <td>2.5</td>\n",
       "      <td>1.5</td>\n",
       "      <td>1</td>\n",
       "    </tr>\n",
       "    <tr>\n",
       "      <th>2</th>\n",
       "      <td>1</td>\n",
       "      <td>3.5</td>\n",
       "      <td>1.5</td>\n",
       "      <td>1.5</td>\n",
       "      <td>1.5</td>\n",
       "      <td>2.5</td>\n",
       "      <td>2.5</td>\n",
       "      <td>3.5</td>\n",
       "      <td>1.5</td>\n",
       "      <td>1.5</td>\n",
       "      <td>0</td>\n",
       "    </tr>\n",
       "    <tr>\n",
       "      <th>3</th>\n",
       "      <td>1</td>\n",
       "      <td>6.5</td>\n",
       "      <td>8.5</td>\n",
       "      <td>8.5</td>\n",
       "      <td>1.5</td>\n",
       "      <td>3.5</td>\n",
       "      <td>4.5</td>\n",
       "      <td>3.5</td>\n",
       "      <td>7.5</td>\n",
       "      <td>1.5</td>\n",
       "      <td>1</td>\n",
       "    </tr>\n",
       "    <tr>\n",
       "      <th>4</th>\n",
       "      <td>1</td>\n",
       "      <td>4.5</td>\n",
       "      <td>1.5</td>\n",
       "      <td>1.5</td>\n",
       "      <td>3.5</td>\n",
       "      <td>2.5</td>\n",
       "      <td>1.5</td>\n",
       "      <td>3.5</td>\n",
       "      <td>1.5</td>\n",
       "      <td>1.5</td>\n",
       "      <td>0</td>\n",
       "    </tr>\n",
       "    <tr>\n",
       "      <th>...</th>\n",
       "      <td>...</td>\n",
       "      <td>...</td>\n",
       "      <td>...</td>\n",
       "      <td>...</td>\n",
       "      <td>...</td>\n",
       "      <td>...</td>\n",
       "      <td>...</td>\n",
       "      <td>...</td>\n",
       "      <td>...</td>\n",
       "      <td>...</td>\n",
       "      <td>...</td>\n",
       "    </tr>\n",
       "    <tr>\n",
       "      <th>595</th>\n",
       "      <td>8</td>\n",
       "      <td>5.5</td>\n",
       "      <td>1.5</td>\n",
       "      <td>1.5</td>\n",
       "      <td>1.5</td>\n",
       "      <td>2.5</td>\n",
       "      <td>1.5</td>\n",
       "      <td>2.5</td>\n",
       "      <td>1.5</td>\n",
       "      <td>1.5</td>\n",
       "      <td>1</td>\n",
       "    </tr>\n",
       "    <tr>\n",
       "      <th>596</th>\n",
       "      <td>8</td>\n",
       "      <td>4.5</td>\n",
       "      <td>1.5</td>\n",
       "      <td>2.5</td>\n",
       "      <td>1.5</td>\n",
       "      <td>2.5</td>\n",
       "      <td>1.5</td>\n",
       "      <td>2.5</td>\n",
       "      <td>1.5</td>\n",
       "      <td>1.5</td>\n",
       "      <td>0</td>\n",
       "    </tr>\n",
       "    <tr>\n",
       "      <th>597</th>\n",
       "      <td>8</td>\n",
       "      <td>5.5</td>\n",
       "      <td>1.5</td>\n",
       "      <td>3.5</td>\n",
       "      <td>1.5</td>\n",
       "      <td>2.5</td>\n",
       "      <td>1.5</td>\n",
       "      <td>3.5</td>\n",
       "      <td>1.5</td>\n",
       "      <td>1.5</td>\n",
       "      <td>1</td>\n",
       "    </tr>\n",
       "    <tr>\n",
       "      <th>598</th>\n",
       "      <td>8</td>\n",
       "      <td>3.5</td>\n",
       "      <td>1.5</td>\n",
       "      <td>1.5</td>\n",
       "      <td>1.5</td>\n",
       "      <td>2.5</td>\n",
       "      <td>1.5</td>\n",
       "      <td>2.5</td>\n",
       "      <td>1.5</td>\n",
       "      <td>1.5</td>\n",
       "      <td>0</td>\n",
       "    </tr>\n",
       "    <tr>\n",
       "      <th>599</th>\n",
       "      <td>8</td>\n",
       "      <td>5.5</td>\n",
       "      <td>2.5</td>\n",
       "      <td>4.5</td>\n",
       "      <td>1.5</td>\n",
       "      <td>1.5</td>\n",
       "      <td>1.5</td>\n",
       "      <td>1.5</td>\n",
       "      <td>1.5</td>\n",
       "      <td>1.5</td>\n",
       "      <td>1</td>\n",
       "    </tr>\n",
       "  </tbody>\n",
       "</table>\n",
       "<p>600 rows × 11 columns</p>\n",
       "</div>"
      ],
      "text/plain": [
       "    path   c1   c2   c3   c4   c5    c6   c7   c8   c9 Outcome\n",
       "0      1  5.5  1.5  1.5  1.5  2.5   1.5  3.5  1.5  1.5       0\n",
       "1      1  5.5  4.5  4.5  5.5  7.5  10.5  3.5  2.5  1.5       1\n",
       "2      1  3.5  1.5  1.5  1.5  2.5   2.5  3.5  1.5  1.5       0\n",
       "3      1  6.5  8.5  8.5  1.5  3.5   4.5  3.5  7.5  1.5       1\n",
       "4      1  4.5  1.5  1.5  3.5  2.5   1.5  3.5  1.5  1.5       0\n",
       "..   ...  ...  ...  ...  ...  ...   ...  ...  ...  ...     ...\n",
       "595    8  5.5  1.5  1.5  1.5  2.5   1.5  2.5  1.5  1.5       1\n",
       "596    8  4.5  1.5  2.5  1.5  2.5   1.5  2.5  1.5  1.5       0\n",
       "597    8  5.5  1.5  3.5  1.5  2.5   1.5  3.5  1.5  1.5       1\n",
       "598    8  3.5  1.5  1.5  1.5  2.5   1.5  2.5  1.5  1.5       0\n",
       "599    8  5.5  2.5  4.5  1.5  1.5   1.5  1.5  1.5  1.5       1\n",
       "\n",
       "[600 rows x 11 columns]"
      ]
     },
     "execution_count": 36,
     "metadata": {
      "tags": []
     },
     "output_type": "execute_result"
    }
   ],
   "source": [
    "df.Outcome[df.Outcome==\"no\"] = 0\n",
    "df.Outcome[df.Outcome ==\"yes\"] = 1\n",
    "df"
   ]
  },
  {
   "cell_type": "code",
   "execution_count": 37,
   "metadata": {
    "id": "uuIHcHCprjSo"
   },
   "outputs": [],
   "source": [
    "#Lets seperste Data\n",
    "X=df.iloc[:,:10].values\n",
    "Y=df.iloc[:,10].values\n",
    "num_train=X.shape[0]\n",
    "input_dim=X.shape[1]\n",
    "Y.shape=(num_train,1)"
   ]
  },
  {
   "cell_type": "code",
   "execution_count": 38,
   "metadata": {
    "colab": {
     "base_uri": "https://localhost:8080/"
    },
    "id": "CWMLEJNbsJV5",
    "outputId": "50ddb4b8-80f4-41a0-f0d3-8383a2c8c75f"
   },
   "outputs": [
    {
     "data": {
      "text/plain": [
       "10"
      ]
     },
     "execution_count": 38,
     "metadata": {
      "tags": []
     },
     "output_type": "execute_result"
    }
   ],
   "source": [
    "X=X.astype('int')\n",
    "Y=Y.astype('int')\n",
    "input_dim"
   ]
  },
  {
   "cell_type": "code",
   "execution_count": 39,
   "metadata": {
    "id": "8fd_otaDsLqW"
   },
   "outputs": [],
   "source": [
    "X_train,X_test,Y_train,Y_test = train_test_split(X,Y,test_size=0.2,random_state=42)"
   ]
  },
  {
   "cell_type": "code",
   "execution_count": 40,
   "metadata": {
    "id": "S-gw3r35sP1J"
   },
   "outputs": [],
   "source": [
    "#LAyers and Neurons\n",
    "model = Sequential()\n",
    "#first Layer\n",
    "model.add(Dense(8,input_dim=10,activation='relu'))\n",
    "#Second LAyer\n",
    "model.add(Dense(8,activation='relu'))\n",
    "#third LAyer\n",
    "#model.add(Dense(10,activation='relu'))\n",
    "#Output\n",
    "model.add(Dense(1,activation='sigmoid'))"
   ]
  },
  {
   "cell_type": "code",
   "execution_count": 41,
   "metadata": {
    "id": "Gg-99KibslNL"
   },
   "outputs": [],
   "source": [
    "model.compile(loss='binary_crossentropy',optimizer='adam',metrics=['accuracy'])"
   ]
  },
  {
   "cell_type": "code",
   "execution_count": 42,
   "metadata": {
    "colab": {
     "base_uri": "https://localhost:8080/"
    },
    "id": "vKkNWqvBsnso",
    "outputId": "32b2e6b3-5fb8-48fb-ac8c-f2f8fc001879"
   },
   "outputs": [
    {
     "name": "stdout",
     "output_type": "stream",
     "text": [
      "Epoch 1/100\n",
      "24/24 [==============================] - 0s 1ms/step - loss: 0.9188 - accuracy: 0.4223\n",
      "Epoch 2/100\n",
      "24/24 [==============================] - 0s 1ms/step - loss: 0.7809 - accuracy: 0.4684\n",
      "Epoch 3/100\n",
      "24/24 [==============================] - 0s 1ms/step - loss: 0.6520 - accuracy: 0.5111\n",
      "Epoch 4/100\n",
      "24/24 [==============================] - 0s 1ms/step - loss: 0.5773 - accuracy: 0.5941\n",
      "Epoch 5/100\n",
      "24/24 [==============================] - 0s 1ms/step - loss: 0.5117 - accuracy: 0.6780\n",
      "Epoch 6/100\n",
      "24/24 [==============================] - 0s 1ms/step - loss: 0.4845 - accuracy: 0.7154\n",
      "Epoch 7/100\n",
      "24/24 [==============================] - 0s 1ms/step - loss: 0.4409 - accuracy: 0.7701\n",
      "Epoch 8/100\n",
      "24/24 [==============================] - 0s 1ms/step - loss: 0.4387 - accuracy: 0.7672\n",
      "Epoch 9/100\n",
      "24/24 [==============================] - 0s 1ms/step - loss: 0.3873 - accuracy: 0.7967\n",
      "Epoch 10/100\n",
      "24/24 [==============================] - 0s 1ms/step - loss: 0.3879 - accuracy: 0.8002\n",
      "Epoch 11/100\n",
      "24/24 [==============================] - 0s 1ms/step - loss: 0.3675 - accuracy: 0.8249\n",
      "Epoch 12/100\n",
      "24/24 [==============================] - 0s 1ms/step - loss: 0.3476 - accuracy: 0.8265\n",
      "Epoch 13/100\n",
      "24/24 [==============================] - 0s 1ms/step - loss: 0.3633 - accuracy: 0.8072\n",
      "Epoch 14/100\n",
      "24/24 [==============================] - 0s 1ms/step - loss: 0.3243 - accuracy: 0.8263\n",
      "Epoch 15/100\n",
      "24/24 [==============================] - 0s 2ms/step - loss: 0.3103 - accuracy: 0.8561\n",
      "Epoch 16/100\n",
      "24/24 [==============================] - 0s 1ms/step - loss: 0.3248 - accuracy: 0.8226\n",
      "Epoch 17/100\n",
      "24/24 [==============================] - 0s 1ms/step - loss: 0.3304 - accuracy: 0.8549\n",
      "Epoch 18/100\n",
      "24/24 [==============================] - 0s 1ms/step - loss: 0.3010 - accuracy: 0.8550\n",
      "Epoch 19/100\n",
      "24/24 [==============================] - 0s 1ms/step - loss: 0.2957 - accuracy: 0.8710\n",
      "Epoch 20/100\n",
      "24/24 [==============================] - 0s 1ms/step - loss: 0.3051 - accuracy: 0.8584\n",
      "Epoch 21/100\n",
      "24/24 [==============================] - 0s 1ms/step - loss: 0.2732 - accuracy: 0.8914\n",
      "Epoch 22/100\n",
      "24/24 [==============================] - 0s 1ms/step - loss: 0.2684 - accuracy: 0.8882\n",
      "Epoch 23/100\n",
      "24/24 [==============================] - 0s 1ms/step - loss: 0.2512 - accuracy: 0.9003\n",
      "Epoch 24/100\n",
      "24/24 [==============================] - 0s 1ms/step - loss: 0.2696 - accuracy: 0.9161\n",
      "Epoch 25/100\n",
      "24/24 [==============================] - 0s 1ms/step - loss: 0.2790 - accuracy: 0.8765\n",
      "Epoch 26/100\n",
      "24/24 [==============================] - 0s 1ms/step - loss: 0.2553 - accuracy: 0.8975\n",
      "Epoch 27/100\n",
      "24/24 [==============================] - 0s 2ms/step - loss: 0.2462 - accuracy: 0.9057\n",
      "Epoch 28/100\n",
      "24/24 [==============================] - 0s 1ms/step - loss: 0.2527 - accuracy: 0.9232\n",
      "Epoch 29/100\n",
      "24/24 [==============================] - 0s 1ms/step - loss: 0.2330 - accuracy: 0.9035\n",
      "Epoch 30/100\n",
      "24/24 [==============================] - 0s 1ms/step - loss: 0.2393 - accuracy: 0.9135\n",
      "Epoch 31/100\n",
      "24/24 [==============================] - 0s 1ms/step - loss: 0.2437 - accuracy: 0.9102\n",
      "Epoch 32/100\n",
      "24/24 [==============================] - 0s 1ms/step - loss: 0.2575 - accuracy: 0.8854\n",
      "Epoch 33/100\n",
      "24/24 [==============================] - 0s 1ms/step - loss: 0.2335 - accuracy: 0.8973\n",
      "Epoch 34/100\n",
      "24/24 [==============================] - 0s 1ms/step - loss: 0.2317 - accuracy: 0.9068\n",
      "Epoch 35/100\n",
      "24/24 [==============================] - 0s 1ms/step - loss: 0.2288 - accuracy: 0.9144\n",
      "Epoch 36/100\n",
      "24/24 [==============================] - 0s 1ms/step - loss: 0.2150 - accuracy: 0.9316\n",
      "Epoch 37/100\n",
      "24/24 [==============================] - 0s 1ms/step - loss: 0.2010 - accuracy: 0.9246\n",
      "Epoch 38/100\n",
      "24/24 [==============================] - 0s 1ms/step - loss: 0.2143 - accuracy: 0.9226\n",
      "Epoch 39/100\n",
      "24/24 [==============================] - 0s 1ms/step - loss: 0.1955 - accuracy: 0.9319\n",
      "Epoch 40/100\n",
      "24/24 [==============================] - 0s 1ms/step - loss: 0.2188 - accuracy: 0.9221\n",
      "Epoch 41/100\n",
      "24/24 [==============================] - 0s 1ms/step - loss: 0.1950 - accuracy: 0.9371\n",
      "Epoch 42/100\n",
      "24/24 [==============================] - 0s 1ms/step - loss: 0.2061 - accuracy: 0.9285\n",
      "Epoch 43/100\n",
      "24/24 [==============================] - 0s 980us/step - loss: 0.2167 - accuracy: 0.9236\n",
      "Epoch 44/100\n",
      "24/24 [==============================] - 0s 1ms/step - loss: 0.1991 - accuracy: 0.9347\n",
      "Epoch 45/100\n",
      "24/24 [==============================] - 0s 1ms/step - loss: 0.2168 - accuracy: 0.9242\n",
      "Epoch 46/100\n",
      "24/24 [==============================] - 0s 1ms/step - loss: 0.2084 - accuracy: 0.9315\n",
      "Epoch 47/100\n",
      "24/24 [==============================] - 0s 1ms/step - loss: 0.1889 - accuracy: 0.9422\n",
      "Epoch 48/100\n",
      "24/24 [==============================] - 0s 1ms/step - loss: 0.2066 - accuracy: 0.9354\n",
      "Epoch 49/100\n",
      "24/24 [==============================] - 0s 1ms/step - loss: 0.1965 - accuracy: 0.9359\n",
      "Epoch 50/100\n",
      "24/24 [==============================] - 0s 1ms/step - loss: 0.1651 - accuracy: 0.9542\n",
      "Epoch 51/100\n",
      "24/24 [==============================] - 0s 1ms/step - loss: 0.2286 - accuracy: 0.9298\n",
      "Epoch 52/100\n",
      "24/24 [==============================] - 0s 1ms/step - loss: 0.1872 - accuracy: 0.9373\n",
      "Epoch 53/100\n",
      "24/24 [==============================] - 0s 1ms/step - loss: 0.1778 - accuracy: 0.9459\n",
      "Epoch 54/100\n",
      "24/24 [==============================] - 0s 1ms/step - loss: 0.1902 - accuracy: 0.9494\n",
      "Epoch 55/100\n",
      "24/24 [==============================] - 0s 1ms/step - loss: 0.1615 - accuracy: 0.9499\n",
      "Epoch 56/100\n",
      "24/24 [==============================] - 0s 1ms/step - loss: 0.1769 - accuracy: 0.9462\n",
      "Epoch 57/100\n",
      "24/24 [==============================] - 0s 1ms/step - loss: 0.1933 - accuracy: 0.9479\n",
      "Epoch 58/100\n",
      "24/24 [==============================] - 0s 1ms/step - loss: 0.1822 - accuracy: 0.9496\n",
      "Epoch 59/100\n",
      "24/24 [==============================] - 0s 1ms/step - loss: 0.1715 - accuracy: 0.9557\n",
      "Epoch 60/100\n",
      "24/24 [==============================] - 0s 1ms/step - loss: 0.1779 - accuracy: 0.9458\n",
      "Epoch 61/100\n",
      "24/24 [==============================] - 0s 1ms/step - loss: 0.1437 - accuracy: 0.9691\n",
      "Epoch 62/100\n",
      "24/24 [==============================] - 0s 1ms/step - loss: 0.1355 - accuracy: 0.9683\n",
      "Epoch 63/100\n",
      "24/24 [==============================] - 0s 2ms/step - loss: 0.1697 - accuracy: 0.9536\n",
      "Epoch 64/100\n",
      "24/24 [==============================] - 0s 1ms/step - loss: 0.1730 - accuracy: 0.9456\n",
      "Epoch 65/100\n",
      "24/24 [==============================] - 0s 1ms/step - loss: 0.1551 - accuracy: 0.9640\n",
      "Epoch 66/100\n",
      "24/24 [==============================] - 0s 1ms/step - loss: 0.1715 - accuracy: 0.9505\n",
      "Epoch 67/100\n",
      "24/24 [==============================] - 0s 1ms/step - loss: 0.1374 - accuracy: 0.9724\n",
      "Epoch 68/100\n",
      "24/24 [==============================] - 0s 1ms/step - loss: 0.1593 - accuracy: 0.9620\n",
      "Epoch 69/100\n",
      "24/24 [==============================] - 0s 1ms/step - loss: 0.1801 - accuracy: 0.9474\n",
      "Epoch 70/100\n",
      "24/24 [==============================] - 0s 1ms/step - loss: 0.1602 - accuracy: 0.9690\n",
      "Epoch 71/100\n",
      "24/24 [==============================] - 0s 1ms/step - loss: 0.1588 - accuracy: 0.9609\n",
      "Epoch 72/100\n",
      "24/24 [==============================] - 0s 1ms/step - loss: 0.1833 - accuracy: 0.9583\n",
      "Epoch 73/100\n",
      "24/24 [==============================] - 0s 1ms/step - loss: 0.1731 - accuracy: 0.9442\n",
      "Epoch 74/100\n",
      "24/24 [==============================] - 0s 1ms/step - loss: 0.1552 - accuracy: 0.9597\n",
      "Epoch 75/100\n",
      "24/24 [==============================] - 0s 1ms/step - loss: 0.1712 - accuracy: 0.9585\n",
      "Epoch 76/100\n",
      "24/24 [==============================] - 0s 1ms/step - loss: 0.1724 - accuracy: 0.9540\n",
      "Epoch 77/100\n",
      "24/24 [==============================] - 0s 1ms/step - loss: 0.1587 - accuracy: 0.9575\n",
      "Epoch 78/100\n",
      "24/24 [==============================] - 0s 1ms/step - loss: 0.1541 - accuracy: 0.9745\n",
      "Epoch 79/100\n",
      "24/24 [==============================] - 0s 1ms/step - loss: 0.1690 - accuracy: 0.9434\n",
      "Epoch 80/100\n",
      "24/24 [==============================] - 0s 2ms/step - loss: 0.1754 - accuracy: 0.9516\n",
      "Epoch 81/100\n",
      "24/24 [==============================] - 0s 1ms/step - loss: 0.1307 - accuracy: 0.9700\n",
      "Epoch 82/100\n",
      "24/24 [==============================] - 0s 1ms/step - loss: 0.1476 - accuracy: 0.9610\n",
      "Epoch 83/100\n",
      "24/24 [==============================] - 0s 1ms/step - loss: 0.1895 - accuracy: 0.9408\n",
      "Epoch 84/100\n",
      "24/24 [==============================] - 0s 1ms/step - loss: 0.1947 - accuracy: 0.9404\n",
      "Epoch 85/100\n",
      "24/24 [==============================] - 0s 1ms/step - loss: 0.1465 - accuracy: 0.9656\n",
      "Epoch 86/100\n",
      "24/24 [==============================] - 0s 1ms/step - loss: 0.1683 - accuracy: 0.9563\n",
      "Epoch 87/100\n",
      "24/24 [==============================] - 0s 1ms/step - loss: 0.1429 - accuracy: 0.9624\n",
      "Epoch 88/100\n",
      "24/24 [==============================] - 0s 2ms/step - loss: 0.1353 - accuracy: 0.9668\n",
      "Epoch 89/100\n",
      "24/24 [==============================] - 0s 1ms/step - loss: 0.1897 - accuracy: 0.9414\n",
      "Epoch 90/100\n",
      "24/24 [==============================] - 0s 1ms/step - loss: 0.1528 - accuracy: 0.9687\n",
      "Epoch 91/100\n",
      "24/24 [==============================] - 0s 1ms/step - loss: 0.1604 - accuracy: 0.9631\n",
      "Epoch 92/100\n",
      "24/24 [==============================] - 0s 1ms/step - loss: 0.1311 - accuracy: 0.9642\n",
      "Epoch 93/100\n",
      "24/24 [==============================] - 0s 1ms/step - loss: 0.1166 - accuracy: 0.9775\n",
      "Epoch 94/100\n",
      "24/24 [==============================] - 0s 1ms/step - loss: 0.1311 - accuracy: 0.9721\n",
      "Epoch 95/100\n",
      "24/24 [==============================] - 0s 1ms/step - loss: 0.1544 - accuracy: 0.9565\n",
      "Epoch 96/100\n",
      "24/24 [==============================] - 0s 1ms/step - loss: 0.1712 - accuracy: 0.9507\n",
      "Epoch 97/100\n",
      "24/24 [==============================] - 0s 1ms/step - loss: 0.1229 - accuracy: 0.9831\n",
      "Epoch 98/100\n",
      "24/24 [==============================] - 0s 1ms/step - loss: 0.1317 - accuracy: 0.9614\n",
      "Epoch 99/100\n",
      "24/24 [==============================] - 0s 1ms/step - loss: 0.1498 - accuracy: 0.9589\n",
      "Epoch 100/100\n",
      "24/24 [==============================] - 0s 1ms/step - loss: 0.1417 - accuracy: 0.9578\n"
     ]
    },
    {
     "data": {
      "text/plain": [
       "<tensorflow.python.keras.callbacks.History at 0x7f2c42089eb8>"
      ]
     },
     "execution_count": 42,
     "metadata": {
      "tags": []
     },
     "output_type": "execute_result"
    }
   ],
   "source": [
    "model.fit(X_train,Y_train,batch_size=20,epochs=100,verbose=1)"
   ]
  },
  {
   "cell_type": "code",
   "execution_count": 43,
   "metadata": {
    "colab": {
     "base_uri": "https://localhost:8080/"
    },
    "id": "nNjHFA73sq0_",
    "outputId": "f64db5b2-f535-41d2-d90f-e704e20e508f"
   },
   "outputs": [
    {
     "name": "stdout",
     "output_type": "stream",
     "text": [
      "4/4 [==============================] - 0s 2ms/step - loss: 0.2965 - accuracy: 0.8833\n",
      "\n",
      "accuracy: 88.33%\n"
     ]
    }
   ],
   "source": [
    "scores = model.evaluate(X_test, Y_test, batch_size=32, verbose=1)\n",
    "print(\"\\n%s: %.2f%%\" % (model.metrics_names[1], scores[1]*100))"
   ]
  },
  {
   "cell_type": "code",
   "execution_count": 44,
   "metadata": {
    "colab": {
     "base_uri": "https://localhost:8080/"
    },
    "id": "eo541e-ptN8p",
    "outputId": "2c14be85-22c7-4514-891c-ce4468c80f2b"
   },
   "outputs": [
    {
     "name": "stdout",
     "output_type": "stream",
     "text": [
      "Yes\n"
     ]
    }
   ],
   "source": [
    "prediction=model.predict(np.array([[1,6.5,8.5,8.5,1.5,3.5,4.5,3.5,7.5,1.5]]))\n",
    "if (prediction<=0.5):print(\"NO\")\n",
    "elif (prediction>0.5):print(\"Yes\")"
   ]
  },
  {
   "cell_type": "code",
   "execution_count": 45,
   "metadata": {
    "colab": {
     "base_uri": "https://localhost:8080/"
    },
    "id": "d7nZBcEStRQx",
    "outputId": "a8653abe-c65e-4d8f-e330-778b90572b80"
   },
   "outputs": [
    {
     "name": "stdout",
     "output_type": "stream",
     "text": [
      "No\n"
     ]
    }
   ],
   "source": [
    "prediction=model.predict(np.array([[8,4.5,1.5,2.5,1.5,2.5,1.5,2.5,1.5,1.5]]))\n",
    "#labels=np.argmax(prediction,axis=-1)\n",
    "labels=(prediction>0.5).astype(np.int)\n",
    "if (labels==1):print(\"Yes\")\n",
    "elif (labels==0):print(\"No\")"
   ]
  },
  {
   "cell_type": "code",
   "execution_count": 45,
   "metadata": {
    "id": "sZiKFynbwnBg"
   },
   "outputs": [],
   "source": []
  }
 ],
 "metadata": {
  "colab": {
   "name": "rmsprop",
   "provenance": []
  },
  "kernelspec": {
   "display_name": "Python 3",
   "language": "python",
   "name": "python3"
  },
  "language_info": {
   "codemirror_mode": {
    "name": "ipython",
    "version": 3
   },
   "file_extension": ".py",
   "mimetype": "text/x-python",
   "name": "python",
   "nbconvert_exporter": "python",
   "pygments_lexer": "ipython3",
   "version": "3.7.4"
  }
 },
 "nbformat": 4,
 "nbformat_minor": 1
}

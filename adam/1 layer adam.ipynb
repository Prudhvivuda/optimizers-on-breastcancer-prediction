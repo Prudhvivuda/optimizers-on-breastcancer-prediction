{
 "cells": [
  {
   "cell_type": "code",
   "execution_count": 93,
   "metadata": {
    "id": "nn_DPtIbq7ru"
   },
   "outputs": [],
   "source": [
    "from keras.models import Sequential\n",
    "from keras.layers import Dense\n",
    "from sklearn.model_selection import train_test_split\n",
    "import numpy as np\n",
    "np.random.seed(1337)"
   ]
  },
  {
   "cell_type": "code",
   "execution_count": 94,
   "metadata": {
    "id": "nockS_3Jq8ve"
   },
   "outputs": [],
   "source": [
    "import numpy as np\n",
    "import pandas as pd\n",
    "from sklearn.preprocessing import StandardScaler\n",
    "from pandas.plotting import scatter_matrix\n",
    "from sklearn.metrics import classification_report"
   ]
  },
  {
   "cell_type": "code",
   "execution_count": 95,
   "metadata": {
    "id": "UR7AiwC_rIyK"
   },
   "outputs": [],
   "source": [
    "df=pd.read_csv(\"/content/pathway data set1111.csv\")"
   ]
  },
  {
   "cell_type": "code",
   "execution_count": 96,
   "metadata": {
    "id": "4MpKpxO_rNDN"
   },
   "outputs": [],
   "source": [
    "df=df.drop([\"Unnamed: 11\"],axis=1)\n",
    "df=df.drop([\"Unnamed: 12\"],axis=1)\n",
    "df=df.drop([\"Unnamed: 13\"],axis=1)"
   ]
  },
  {
   "cell_type": "code",
   "execution_count": 97,
   "metadata": {
    "colab": {
     "base_uri": "https://localhost:8080/"
    },
    "id": "gNjYSr9crayo",
    "outputId": "fe9c979b-b045-4732-d8ce-ecadb71706a7"
   },
   "outputs": [
    {
     "name": "stdout",
     "output_type": "stream",
     "text": [
      "    path   c1   c2   c3   c4   c5    c6   c7   c8   c9 Outcome\n",
      "0      1  5.5  1.5  1.5  1.5  2.5   1.5  3.5  1.5  1.5      no\n",
      "1      1  5.5  4.5  4.5  5.5  7.5  10.5  3.5  2.5  1.5     yes\n",
      "2      1  3.5  1.5  1.5  1.5  2.5   2.5  3.5  1.5  1.5      no\n",
      "3      1  6.5  8.5  8.5  1.5  3.5   4.5  3.5  7.5  1.5     yes\n",
      "4      1  4.5  1.5  1.5  3.5  2.5   1.5  3.5  1.5  1.5      no\n",
      "..   ...  ...  ...  ...  ...  ...   ...  ...  ...  ...     ...\n",
      "595    8  5.5  1.5  1.5  1.5  2.5   1.5  2.5  1.5  1.5     yes\n",
      "596    8  4.5  1.5  2.5  1.5  2.5   1.5  2.5  1.5  1.5      no\n",
      "597    8  5.5  1.5  3.5  1.5  2.5   1.5  3.5  1.5  1.5     yes\n",
      "598    8  3.5  1.5  1.5  1.5  2.5   1.5  2.5  1.5  1.5      no\n",
      "599    8  5.5  2.5  4.5  1.5  1.5   1.5  1.5  1.5  1.5     yes\n",
      "\n",
      "[600 rows x 11 columns]\n"
     ]
    },
    {
     "name": "stderr",
     "output_type": "stream",
     "text": [
      "/usr/local/lib/python3.6/dist-packages/ipykernel_launcher.py:1: SettingWithCopyWarning: \n",
      "A value is trying to be set on a copy of a slice from a DataFrame\n",
      "\n",
      "See the caveats in the documentation: https://pandas.pydata.org/pandas-docs/stable/user_guide/indexing.html#returning-a-view-versus-a-copy\n",
      "  \"\"\"Entry point for launching an IPython kernel.\n",
      "/usr/local/lib/python3.6/dist-packages/ipykernel_launcher.py:2: SettingWithCopyWarning: \n",
      "A value is trying to be set on a copy of a slice from a DataFrame\n",
      "\n",
      "See the caveats in the documentation: https://pandas.pydata.org/pandas-docs/stable/user_guide/indexing.html#returning-a-view-versus-a-copy\n",
      "  \n",
      "/usr/local/lib/python3.6/dist-packages/ipykernel_launcher.py:3: SettingWithCopyWarning: \n",
      "A value is trying to be set on a copy of a slice from a DataFrame\n",
      "\n",
      "See the caveats in the documentation: https://pandas.pydata.org/pandas-docs/stable/user_guide/indexing.html#returning-a-view-versus-a-copy\n",
      "  This is separate from the ipykernel package so we can avoid doing imports until\n",
      "/usr/local/lib/python3.6/dist-packages/ipykernel_launcher.py:4: SettingWithCopyWarning: \n",
      "A value is trying to be set on a copy of a slice from a DataFrame\n",
      "\n",
      "See the caveats in the documentation: https://pandas.pydata.org/pandas-docs/stable/user_guide/indexing.html#returning-a-view-versus-a-copy\n",
      "  after removing the cwd from sys.path.\n",
      "/usr/local/lib/python3.6/dist-packages/ipykernel_launcher.py:5: SettingWithCopyWarning: \n",
      "A value is trying to be set on a copy of a slice from a DataFrame\n",
      "\n",
      "See the caveats in the documentation: https://pandas.pydata.org/pandas-docs/stable/user_guide/indexing.html#returning-a-view-versus-a-copy\n",
      "  \"\"\"\n",
      "/usr/local/lib/python3.6/dist-packages/ipykernel_launcher.py:6: SettingWithCopyWarning: \n",
      "A value is trying to be set on a copy of a slice from a DataFrame\n",
      "\n",
      "See the caveats in the documentation: https://pandas.pydata.org/pandas-docs/stable/user_guide/indexing.html#returning-a-view-versus-a-copy\n",
      "  \n",
      "/usr/local/lib/python3.6/dist-packages/ipykernel_launcher.py:7: SettingWithCopyWarning: \n",
      "A value is trying to be set on a copy of a slice from a DataFrame\n",
      "\n",
      "See the caveats in the documentation: https://pandas.pydata.org/pandas-docs/stable/user_guide/indexing.html#returning-a-view-versus-a-copy\n",
      "  import sys\n",
      "/usr/local/lib/python3.6/dist-packages/ipykernel_launcher.py:8: SettingWithCopyWarning: \n",
      "A value is trying to be set on a copy of a slice from a DataFrame\n",
      "\n",
      "See the caveats in the documentation: https://pandas.pydata.org/pandas-docs/stable/user_guide/indexing.html#returning-a-view-versus-a-copy\n",
      "  \n"
     ]
    }
   ],
   "source": [
    "df.path[df.path ==\"AKT\"] =1\n",
    "df.path[df.path ==\"FASL\"] =2\n",
    "df.path[df.path ==\"MAPK\"] =3\n",
    "df.path[df.path ==\"NOTCH\"] =4\n",
    "df.path[df.path ==\"SHH\"]=5\n",
    "df.path[df.path ==\"TNF\"] =6\n",
    "df.path[df.path ==\"WNT\"] =7\n",
    "df.path[df.path ==\"MTOR\"] =8\n",
    "print(df)"
   ]
  },
  {
   "cell_type": "code",
   "execution_count": 98,
   "metadata": {
    "colab": {
     "base_uri": "https://localhost:8080/",
     "height": 600
    },
    "id": "Ly4Gq4jrrdyh",
    "outputId": "0516f415-c242-4c0f-f3e4-e5f434414752"
   },
   "outputs": [
    {
     "name": "stderr",
     "output_type": "stream",
     "text": [
      "/usr/local/lib/python3.6/dist-packages/ipykernel_launcher.py:1: SettingWithCopyWarning: \n",
      "A value is trying to be set on a copy of a slice from a DataFrame\n",
      "\n",
      "See the caveats in the documentation: https://pandas.pydata.org/pandas-docs/stable/user_guide/indexing.html#returning-a-view-versus-a-copy\n",
      "  \"\"\"Entry point for launching an IPython kernel.\n",
      "/usr/local/lib/python3.6/dist-packages/ipykernel_launcher.py:2: SettingWithCopyWarning: \n",
      "A value is trying to be set on a copy of a slice from a DataFrame\n",
      "\n",
      "See the caveats in the documentation: https://pandas.pydata.org/pandas-docs/stable/user_guide/indexing.html#returning-a-view-versus-a-copy\n",
      "  \n"
     ]
    },
    {
     "data": {
      "text/html": [
       "<div>\n",
       "<style scoped>\n",
       "    .dataframe tbody tr th:only-of-type {\n",
       "        vertical-align: middle;\n",
       "    }\n",
       "\n",
       "    .dataframe tbody tr th {\n",
       "        vertical-align: top;\n",
       "    }\n",
       "\n",
       "    .dataframe thead th {\n",
       "        text-align: right;\n",
       "    }\n",
       "</style>\n",
       "<table border=\"1\" class=\"dataframe\">\n",
       "  <thead>\n",
       "    <tr style=\"text-align: right;\">\n",
       "      <th></th>\n",
       "      <th>path</th>\n",
       "      <th>c1</th>\n",
       "      <th>c2</th>\n",
       "      <th>c3</th>\n",
       "      <th>c4</th>\n",
       "      <th>c5</th>\n",
       "      <th>c6</th>\n",
       "      <th>c7</th>\n",
       "      <th>c8</th>\n",
       "      <th>c9</th>\n",
       "      <th>Outcome</th>\n",
       "    </tr>\n",
       "  </thead>\n",
       "  <tbody>\n",
       "    <tr>\n",
       "      <th>0</th>\n",
       "      <td>1</td>\n",
       "      <td>5.5</td>\n",
       "      <td>1.5</td>\n",
       "      <td>1.5</td>\n",
       "      <td>1.5</td>\n",
       "      <td>2.5</td>\n",
       "      <td>1.5</td>\n",
       "      <td>3.5</td>\n",
       "      <td>1.5</td>\n",
       "      <td>1.5</td>\n",
       "      <td>0</td>\n",
       "    </tr>\n",
       "    <tr>\n",
       "      <th>1</th>\n",
       "      <td>1</td>\n",
       "      <td>5.5</td>\n",
       "      <td>4.5</td>\n",
       "      <td>4.5</td>\n",
       "      <td>5.5</td>\n",
       "      <td>7.5</td>\n",
       "      <td>10.5</td>\n",
       "      <td>3.5</td>\n",
       "      <td>2.5</td>\n",
       "      <td>1.5</td>\n",
       "      <td>1</td>\n",
       "    </tr>\n",
       "    <tr>\n",
       "      <th>2</th>\n",
       "      <td>1</td>\n",
       "      <td>3.5</td>\n",
       "      <td>1.5</td>\n",
       "      <td>1.5</td>\n",
       "      <td>1.5</td>\n",
       "      <td>2.5</td>\n",
       "      <td>2.5</td>\n",
       "      <td>3.5</td>\n",
       "      <td>1.5</td>\n",
       "      <td>1.5</td>\n",
       "      <td>0</td>\n",
       "    </tr>\n",
       "    <tr>\n",
       "      <th>3</th>\n",
       "      <td>1</td>\n",
       "      <td>6.5</td>\n",
       "      <td>8.5</td>\n",
       "      <td>8.5</td>\n",
       "      <td>1.5</td>\n",
       "      <td>3.5</td>\n",
       "      <td>4.5</td>\n",
       "      <td>3.5</td>\n",
       "      <td>7.5</td>\n",
       "      <td>1.5</td>\n",
       "      <td>1</td>\n",
       "    </tr>\n",
       "    <tr>\n",
       "      <th>4</th>\n",
       "      <td>1</td>\n",
       "      <td>4.5</td>\n",
       "      <td>1.5</td>\n",
       "      <td>1.5</td>\n",
       "      <td>3.5</td>\n",
       "      <td>2.5</td>\n",
       "      <td>1.5</td>\n",
       "      <td>3.5</td>\n",
       "      <td>1.5</td>\n",
       "      <td>1.5</td>\n",
       "      <td>0</td>\n",
       "    </tr>\n",
       "    <tr>\n",
       "      <th>...</th>\n",
       "      <td>...</td>\n",
       "      <td>...</td>\n",
       "      <td>...</td>\n",
       "      <td>...</td>\n",
       "      <td>...</td>\n",
       "      <td>...</td>\n",
       "      <td>...</td>\n",
       "      <td>...</td>\n",
       "      <td>...</td>\n",
       "      <td>...</td>\n",
       "      <td>...</td>\n",
       "    </tr>\n",
       "    <tr>\n",
       "      <th>595</th>\n",
       "      <td>8</td>\n",
       "      <td>5.5</td>\n",
       "      <td>1.5</td>\n",
       "      <td>1.5</td>\n",
       "      <td>1.5</td>\n",
       "      <td>2.5</td>\n",
       "      <td>1.5</td>\n",
       "      <td>2.5</td>\n",
       "      <td>1.5</td>\n",
       "      <td>1.5</td>\n",
       "      <td>1</td>\n",
       "    </tr>\n",
       "    <tr>\n",
       "      <th>596</th>\n",
       "      <td>8</td>\n",
       "      <td>4.5</td>\n",
       "      <td>1.5</td>\n",
       "      <td>2.5</td>\n",
       "      <td>1.5</td>\n",
       "      <td>2.5</td>\n",
       "      <td>1.5</td>\n",
       "      <td>2.5</td>\n",
       "      <td>1.5</td>\n",
       "      <td>1.5</td>\n",
       "      <td>0</td>\n",
       "    </tr>\n",
       "    <tr>\n",
       "      <th>597</th>\n",
       "      <td>8</td>\n",
       "      <td>5.5</td>\n",
       "      <td>1.5</td>\n",
       "      <td>3.5</td>\n",
       "      <td>1.5</td>\n",
       "      <td>2.5</td>\n",
       "      <td>1.5</td>\n",
       "      <td>3.5</td>\n",
       "      <td>1.5</td>\n",
       "      <td>1.5</td>\n",
       "      <td>1</td>\n",
       "    </tr>\n",
       "    <tr>\n",
       "      <th>598</th>\n",
       "      <td>8</td>\n",
       "      <td>3.5</td>\n",
       "      <td>1.5</td>\n",
       "      <td>1.5</td>\n",
       "      <td>1.5</td>\n",
       "      <td>2.5</td>\n",
       "      <td>1.5</td>\n",
       "      <td>2.5</td>\n",
       "      <td>1.5</td>\n",
       "      <td>1.5</td>\n",
       "      <td>0</td>\n",
       "    </tr>\n",
       "    <tr>\n",
       "      <th>599</th>\n",
       "      <td>8</td>\n",
       "      <td>5.5</td>\n",
       "      <td>2.5</td>\n",
       "      <td>4.5</td>\n",
       "      <td>1.5</td>\n",
       "      <td>1.5</td>\n",
       "      <td>1.5</td>\n",
       "      <td>1.5</td>\n",
       "      <td>1.5</td>\n",
       "      <td>1.5</td>\n",
       "      <td>1</td>\n",
       "    </tr>\n",
       "  </tbody>\n",
       "</table>\n",
       "<p>600 rows × 11 columns</p>\n",
       "</div>"
      ],
      "text/plain": [
       "    path   c1   c2   c3   c4   c5    c6   c7   c8   c9 Outcome\n",
       "0      1  5.5  1.5  1.5  1.5  2.5   1.5  3.5  1.5  1.5       0\n",
       "1      1  5.5  4.5  4.5  5.5  7.5  10.5  3.5  2.5  1.5       1\n",
       "2      1  3.5  1.5  1.5  1.5  2.5   2.5  3.5  1.5  1.5       0\n",
       "3      1  6.5  8.5  8.5  1.5  3.5   4.5  3.5  7.5  1.5       1\n",
       "4      1  4.5  1.5  1.5  3.5  2.5   1.5  3.5  1.5  1.5       0\n",
       "..   ...  ...  ...  ...  ...  ...   ...  ...  ...  ...     ...\n",
       "595    8  5.5  1.5  1.5  1.5  2.5   1.5  2.5  1.5  1.5       1\n",
       "596    8  4.5  1.5  2.5  1.5  2.5   1.5  2.5  1.5  1.5       0\n",
       "597    8  5.5  1.5  3.5  1.5  2.5   1.5  3.5  1.5  1.5       1\n",
       "598    8  3.5  1.5  1.5  1.5  2.5   1.5  2.5  1.5  1.5       0\n",
       "599    8  5.5  2.5  4.5  1.5  1.5   1.5  1.5  1.5  1.5       1\n",
       "\n",
       "[600 rows x 11 columns]"
      ]
     },
     "execution_count": 98,
     "metadata": {
      "tags": []
     },
     "output_type": "execute_result"
    }
   ],
   "source": [
    "df.Outcome[df.Outcome==\"no\"] = 0\n",
    "df.Outcome[df.Outcome ==\"yes\"] = 1\n",
    "df"
   ]
  },
  {
   "cell_type": "code",
   "execution_count": 99,
   "metadata": {
    "id": "uuIHcHCprjSo"
   },
   "outputs": [],
   "source": [
    "#Lets seperste Data\n",
    "X=df.iloc[:,:10].values\n",
    "Y=df.iloc[:,10].values\n",
    "num_train=X.shape[0]\n",
    "input_dim=X.shape[1]\n",
    "Y.shape=(num_train,1)"
   ]
  },
  {
   "cell_type": "code",
   "execution_count": 100,
   "metadata": {
    "colab": {
     "base_uri": "https://localhost:8080/"
    },
    "id": "CWMLEJNbsJV5",
    "outputId": "d3e590a8-3aa3-453b-9958-dedbcb6a0e27"
   },
   "outputs": [
    {
     "data": {
      "text/plain": [
       "10"
      ]
     },
     "execution_count": 100,
     "metadata": {
      "tags": []
     },
     "output_type": "execute_result"
    }
   ],
   "source": [
    "X=X.astype('int')\n",
    "Y=Y.astype('int')\n",
    "input_dim"
   ]
  },
  {
   "cell_type": "code",
   "execution_count": 101,
   "metadata": {
    "id": "8fd_otaDsLqW"
   },
   "outputs": [],
   "source": [
    "X_train,X_test,Y_train,Y_test = train_test_split(X,Y,test_size=0.2,random_state=42)"
   ]
  },
  {
   "cell_type": "code",
   "execution_count": 102,
   "metadata": {
    "id": "S-gw3r35sP1J"
   },
   "outputs": [],
   "source": [
    "#LAyers and Neurons\n",
    "model = Sequential()\n",
    "#first Layer\n",
    "model.add(Dense(12,input_dim=10,activation='relu'))\n",
    "#Second LAyer\n",
    "#model.add(Dense(8,activation='relu'))\n",
    "#third LAyer\n",
    "#model.add(Dense(10,activation='relu'))\n",
    "#Output\n",
    "model.add(Dense(1,activation='sigmoid'))"
   ]
  },
  {
   "cell_type": "code",
   "execution_count": 103,
   "metadata": {
    "id": "Gg-99KibslNL"
   },
   "outputs": [],
   "source": [
    "model.compile(loss='binary_crossentropy',optimizer='adam',metrics=['accuracy'])"
   ]
  },
  {
   "cell_type": "code",
   "execution_count": 104,
   "metadata": {
    "colab": {
     "base_uri": "https://localhost:8080/"
    },
    "id": "vKkNWqvBsnso",
    "outputId": "2d7a8982-4fe9-48cd-e155-c115b0325e8a"
   },
   "outputs": [
    {
     "name": "stdout",
     "output_type": "stream",
     "text": [
      "Epoch 1/100\n",
      "24/24 [==============================] - 0s 1ms/step - loss: 0.9915 - accuracy: 0.4662\n",
      "Epoch 2/100\n",
      "24/24 [==============================] - 0s 878us/step - loss: 0.6249 - accuracy: 0.6054\n",
      "Epoch 3/100\n",
      "24/24 [==============================] - 0s 958us/step - loss: 0.5211 - accuracy: 0.7057\n",
      "Epoch 4/100\n",
      "24/24 [==============================] - 0s 1ms/step - loss: 0.4656 - accuracy: 0.7949\n",
      "Epoch 5/100\n",
      "24/24 [==============================] - 0s 1ms/step - loss: 0.4679 - accuracy: 0.7934\n",
      "Epoch 6/100\n",
      "24/24 [==============================] - 0s 908us/step - loss: 0.4344 - accuracy: 0.8196\n",
      "Epoch 7/100\n",
      "24/24 [==============================] - 0s 888us/step - loss: 0.3825 - accuracy: 0.8443\n",
      "Epoch 8/100\n",
      "24/24 [==============================] - 0s 1ms/step - loss: 0.4288 - accuracy: 0.8248\n",
      "Epoch 9/100\n",
      "24/24 [==============================] - 0s 953us/step - loss: 0.3795 - accuracy: 0.8139\n",
      "Epoch 10/100\n",
      "24/24 [==============================] - 0s 920us/step - loss: 0.3667 - accuracy: 0.8402\n",
      "Epoch 11/100\n",
      "24/24 [==============================] - 0s 1ms/step - loss: 0.3420 - accuracy: 0.8495\n",
      "Epoch 12/100\n",
      "24/24 [==============================] - 0s 1ms/step - loss: 0.3357 - accuracy: 0.8441\n",
      "Epoch 13/100\n",
      "24/24 [==============================] - 0s 1ms/step - loss: 0.3201 - accuracy: 0.8274\n",
      "Epoch 14/100\n",
      "24/24 [==============================] - 0s 1ms/step - loss: 0.3179 - accuracy: 0.8443\n",
      "Epoch 15/100\n",
      "24/24 [==============================] - 0s 1ms/step - loss: 0.3165 - accuracy: 0.8429\n",
      "Epoch 16/100\n",
      "24/24 [==============================] - 0s 1ms/step - loss: 0.3036 - accuracy: 0.8564\n",
      "Epoch 17/100\n",
      "24/24 [==============================] - 0s 975us/step - loss: 0.2951 - accuracy: 0.8555\n",
      "Epoch 18/100\n",
      "24/24 [==============================] - 0s 951us/step - loss: 0.3089 - accuracy: 0.8534\n",
      "Epoch 19/100\n",
      "24/24 [==============================] - 0s 920us/step - loss: 0.3284 - accuracy: 0.8448\n",
      "Epoch 20/100\n",
      "24/24 [==============================] - 0s 1ms/step - loss: 0.2973 - accuracy: 0.8536\n",
      "Epoch 21/100\n",
      "24/24 [==============================] - 0s 1ms/step - loss: 0.3285 - accuracy: 0.8446\n",
      "Epoch 22/100\n",
      "24/24 [==============================] - 0s 1ms/step - loss: 0.3122 - accuracy: 0.8590\n",
      "Epoch 23/100\n",
      "24/24 [==============================] - 0s 922us/step - loss: 0.3057 - accuracy: 0.8486\n",
      "Epoch 24/100\n",
      "24/24 [==============================] - 0s 999us/step - loss: 0.3009 - accuracy: 0.8552\n",
      "Epoch 25/100\n",
      "24/24 [==============================] - 0s 1ms/step - loss: 0.2816 - accuracy: 0.8608\n",
      "Epoch 26/100\n",
      "24/24 [==============================] - 0s 1ms/step - loss: 0.2989 - accuracy: 0.8581\n",
      "Epoch 27/100\n",
      "24/24 [==============================] - 0s 1ms/step - loss: 0.3082 - accuracy: 0.8510\n",
      "Epoch 28/100\n",
      "24/24 [==============================] - 0s 1ms/step - loss: 0.2692 - accuracy: 0.8655\n",
      "Epoch 29/100\n",
      "24/24 [==============================] - 0s 1ms/step - loss: 0.2731 - accuracy: 0.8624\n",
      "Epoch 30/100\n",
      "24/24 [==============================] - 0s 975us/step - loss: 0.2851 - accuracy: 0.8543\n",
      "Epoch 31/100\n",
      "24/24 [==============================] - 0s 1ms/step - loss: 0.2979 - accuracy: 0.8573\n",
      "Epoch 32/100\n",
      "24/24 [==============================] - 0s 1ms/step - loss: 0.2887 - accuracy: 0.8630\n",
      "Epoch 33/100\n",
      "24/24 [==============================] - 0s 974us/step - loss: 0.2848 - accuracy: 0.8594\n",
      "Epoch 34/100\n",
      "24/24 [==============================] - 0s 1ms/step - loss: 0.2777 - accuracy: 0.8614\n",
      "Epoch 35/100\n",
      "24/24 [==============================] - 0s 1ms/step - loss: 0.2666 - accuracy: 0.8690\n",
      "Epoch 36/100\n",
      "24/24 [==============================] - 0s 981us/step - loss: 0.2808 - accuracy: 0.8621\n",
      "Epoch 37/100\n",
      "24/24 [==============================] - 0s 1ms/step - loss: 0.2593 - accuracy: 0.8955\n",
      "Epoch 38/100\n",
      "24/24 [==============================] - 0s 950us/step - loss: 0.2514 - accuracy: 0.8796\n",
      "Epoch 39/100\n",
      "24/24 [==============================] - 0s 1ms/step - loss: 0.2624 - accuracy: 0.8743\n",
      "Epoch 40/100\n",
      "24/24 [==============================] - 0s 1ms/step - loss: 0.2589 - accuracy: 0.8839\n",
      "Epoch 41/100\n",
      "24/24 [==============================] - 0s 1ms/step - loss: 0.2566 - accuracy: 0.8748\n",
      "Epoch 42/100\n",
      "24/24 [==============================] - 0s 1ms/step - loss: 0.2627 - accuracy: 0.8910\n",
      "Epoch 43/100\n",
      "24/24 [==============================] - 0s 997us/step - loss: 0.2550 - accuracy: 0.8828\n",
      "Epoch 44/100\n",
      "24/24 [==============================] - 0s 905us/step - loss: 0.2332 - accuracy: 0.9062\n",
      "Epoch 45/100\n",
      "24/24 [==============================] - 0s 1ms/step - loss: 0.2457 - accuracy: 0.8872\n",
      "Epoch 46/100\n",
      "24/24 [==============================] - 0s 921us/step - loss: 0.2615 - accuracy: 0.8697\n",
      "Epoch 47/100\n",
      "24/24 [==============================] - 0s 936us/step - loss: 0.2222 - accuracy: 0.9160\n",
      "Epoch 48/100\n",
      "24/24 [==============================] - 0s 915us/step - loss: 0.2382 - accuracy: 0.8878\n",
      "Epoch 49/100\n",
      "24/24 [==============================] - 0s 1ms/step - loss: 0.2250 - accuracy: 0.8903\n",
      "Epoch 50/100\n",
      "24/24 [==============================] - 0s 1ms/step - loss: 0.2600 - accuracy: 0.8748\n",
      "Epoch 51/100\n",
      "24/24 [==============================] - 0s 1ms/step - loss: 0.2108 - accuracy: 0.9067\n",
      "Epoch 52/100\n",
      "24/24 [==============================] - 0s 1ms/step - loss: 0.2416 - accuracy: 0.8839\n",
      "Epoch 53/100\n",
      "24/24 [==============================] - 0s 1ms/step - loss: 0.2273 - accuracy: 0.9064\n",
      "Epoch 54/100\n",
      "24/24 [==============================] - 0s 1ms/step - loss: 0.2220 - accuracy: 0.9113\n",
      "Epoch 55/100\n",
      "24/24 [==============================] - 0s 1ms/step - loss: 0.2209 - accuracy: 0.9100\n",
      "Epoch 56/100\n",
      "24/24 [==============================] - 0s 947us/step - loss: 0.2339 - accuracy: 0.8900\n",
      "Epoch 57/100\n",
      "24/24 [==============================] - 0s 980us/step - loss: 0.1993 - accuracy: 0.9226\n",
      "Epoch 58/100\n",
      "24/24 [==============================] - 0s 964us/step - loss: 0.2180 - accuracy: 0.9030\n",
      "Epoch 59/100\n",
      "24/24 [==============================] - 0s 884us/step - loss: 0.1880 - accuracy: 0.9290\n",
      "Epoch 60/100\n",
      "24/24 [==============================] - 0s 1ms/step - loss: 0.2264 - accuracy: 0.9057\n",
      "Epoch 61/100\n",
      "24/24 [==============================] - 0s 968us/step - loss: 0.2272 - accuracy: 0.9040\n",
      "Epoch 62/100\n",
      "24/24 [==============================] - 0s 918us/step - loss: 0.2421 - accuracy: 0.8954\n",
      "Epoch 63/100\n",
      "24/24 [==============================] - 0s 879us/step - loss: 0.2215 - accuracy: 0.8946\n",
      "Epoch 64/100\n",
      "24/24 [==============================] - 0s 1ms/step - loss: 0.2435 - accuracy: 0.9019\n",
      "Epoch 65/100\n",
      "24/24 [==============================] - 0s 991us/step - loss: 0.2248 - accuracy: 0.8997\n",
      "Epoch 66/100\n",
      "24/24 [==============================] - 0s 953us/step - loss: 0.1698 - accuracy: 0.9446\n",
      "Epoch 67/100\n",
      "24/24 [==============================] - 0s 1ms/step - loss: 0.2086 - accuracy: 0.9271\n",
      "Epoch 68/100\n",
      "24/24 [==============================] - 0s 1ms/step - loss: 0.2071 - accuracy: 0.9237\n",
      "Epoch 69/100\n",
      "24/24 [==============================] - 0s 1ms/step - loss: 0.2147 - accuracy: 0.9078\n",
      "Epoch 70/100\n",
      "24/24 [==============================] - 0s 2ms/step - loss: 0.1993 - accuracy: 0.9242\n",
      "Epoch 71/100\n",
      "24/24 [==============================] - 0s 907us/step - loss: 0.2032 - accuracy: 0.9280\n",
      "Epoch 72/100\n",
      "24/24 [==============================] - 0s 952us/step - loss: 0.2217 - accuracy: 0.9005\n",
      "Epoch 73/100\n",
      "24/24 [==============================] - 0s 922us/step - loss: 0.1981 - accuracy: 0.9264\n",
      "Epoch 74/100\n",
      "24/24 [==============================] - 0s 1ms/step - loss: 0.2505 - accuracy: 0.8956\n",
      "Epoch 75/100\n",
      "24/24 [==============================] - 0s 962us/step - loss: 0.2046 - accuracy: 0.9069\n",
      "Epoch 76/100\n",
      "24/24 [==============================] - 0s 1ms/step - loss: 0.1963 - accuracy: 0.9206\n",
      "Epoch 77/100\n",
      "24/24 [==============================] - 0s 927us/step - loss: 0.1750 - accuracy: 0.9446\n",
      "Epoch 78/100\n",
      "24/24 [==============================] - 0s 1ms/step - loss: 0.1782 - accuracy: 0.9419\n",
      "Epoch 79/100\n",
      "24/24 [==============================] - 0s 939us/step - loss: 0.1872 - accuracy: 0.9263\n",
      "Epoch 80/100\n",
      "24/24 [==============================] - 0s 935us/step - loss: 0.1863 - accuracy: 0.9371\n",
      "Epoch 81/100\n",
      "24/24 [==============================] - 0s 1ms/step - loss: 0.2392 - accuracy: 0.9104\n",
      "Epoch 82/100\n",
      "24/24 [==============================] - 0s 1ms/step - loss: 0.1951 - accuracy: 0.9329\n",
      "Epoch 83/100\n",
      "24/24 [==============================] - 0s 1ms/step - loss: 0.2022 - accuracy: 0.9252\n",
      "Epoch 84/100\n",
      "24/24 [==============================] - 0s 1ms/step - loss: 0.2097 - accuracy: 0.9260\n",
      "Epoch 85/100\n",
      "24/24 [==============================] - 0s 1ms/step - loss: 0.1650 - accuracy: 0.9525\n",
      "Epoch 86/100\n",
      "24/24 [==============================] - 0s 995us/step - loss: 0.1968 - accuracy: 0.9246\n",
      "Epoch 87/100\n",
      "24/24 [==============================] - 0s 1ms/step - loss: 0.1669 - accuracy: 0.9412\n",
      "Epoch 88/100\n",
      "24/24 [==============================] - 0s 987us/step - loss: 0.1858 - accuracy: 0.9361\n",
      "Epoch 89/100\n",
      "24/24 [==============================] - 0s 1ms/step - loss: 0.2126 - accuracy: 0.9058\n",
      "Epoch 90/100\n",
      "24/24 [==============================] - 0s 2ms/step - loss: 0.1927 - accuracy: 0.9331\n",
      "Epoch 91/100\n",
      "24/24 [==============================] - 0s 1ms/step - loss: 0.2162 - accuracy: 0.9216\n",
      "Epoch 92/100\n",
      "24/24 [==============================] - 0s 1ms/step - loss: 0.1971 - accuracy: 0.9313\n",
      "Epoch 93/100\n",
      "24/24 [==============================] - 0s 1ms/step - loss: 0.1870 - accuracy: 0.9407\n",
      "Epoch 94/100\n",
      "24/24 [==============================] - 0s 1ms/step - loss: 0.2051 - accuracy: 0.9197\n",
      "Epoch 95/100\n",
      "24/24 [==============================] - 0s 1ms/step - loss: 0.2019 - accuracy: 0.9340\n",
      "Epoch 96/100\n",
      "24/24 [==============================] - 0s 1ms/step - loss: 0.2061 - accuracy: 0.9229\n",
      "Epoch 97/100\n",
      "24/24 [==============================] - 0s 1ms/step - loss: 0.1639 - accuracy: 0.9576\n",
      "Epoch 98/100\n",
      "24/24 [==============================] - 0s 1ms/step - loss: 0.1831 - accuracy: 0.9383\n",
      "Epoch 99/100\n",
      "24/24 [==============================] - 0s 1ms/step - loss: 0.1645 - accuracy: 0.9410\n",
      "Epoch 100/100\n",
      "24/24 [==============================] - 0s 1ms/step - loss: 0.1917 - accuracy: 0.9359\n"
     ]
    },
    {
     "data": {
      "text/plain": [
       "<tensorflow.python.keras.callbacks.History at 0x7f5bc28f64a8>"
      ]
     },
     "execution_count": 104,
     "metadata": {
      "tags": []
     },
     "output_type": "execute_result"
    }
   ],
   "source": [
    "model.fit(X_train,Y_train,batch_size=20,epochs=100,verbose=1)"
   ]
  },
  {
   "cell_type": "code",
   "execution_count": 105,
   "metadata": {
    "colab": {
     "base_uri": "https://localhost:8080/"
    },
    "id": "nNjHFA73sq0_",
    "outputId": "54b1af99-e5fa-4f14-cf0f-4a3317fdfb15"
   },
   "outputs": [
    {
     "name": "stdout",
     "output_type": "stream",
     "text": [
      "4/4 [==============================] - 0s 2ms/step - loss: 0.3165 - accuracy: 0.8667\n",
      "\n",
      "accuracy: 86.67%\n"
     ]
    }
   ],
   "source": [
    "scores = model.evaluate(X_test, Y_test, batch_size=32, verbose=1)\n",
    "print(\"\\n%s: %.2f%%\" % (model.metrics_names[1], scores[1]*100))"
   ]
  },
  {
   "cell_type": "code",
   "execution_count": 106,
   "metadata": {
    "colab": {
     "base_uri": "https://localhost:8080/"
    },
    "id": "eo541e-ptN8p",
    "outputId": "27de652f-dd89-4122-cba2-4a48090326c0"
   },
   "outputs": [
    {
     "name": "stdout",
     "output_type": "stream",
     "text": [
      "WARNING:tensorflow:6 out of the last 11 calls to <function Model.make_predict_function.<locals>.predict_function at 0x7f5bc2900c80> triggered tf.function retracing. Tracing is expensive and the excessive number of tracings could be due to (1) creating @tf.function repeatedly in a loop, (2) passing tensors with different shapes, (3) passing Python objects instead of tensors. For (1), please define your @tf.function outside of the loop. For (2), @tf.function has experimental_relax_shapes=True option that relaxes argument shapes that can avoid unnecessary retracing. For (3), please refer to https://www.tensorflow.org/guide/function#controlling_retracing and https://www.tensorflow.org/api_docs/python/tf/function for  more details.\n",
      "Yes\n"
     ]
    }
   ],
   "source": [
    "prediction=model.predict(np.array([[1,6.5,8.5,8.5,1.5,3.5,4.5,3.5,7.5,1.5]]))\n",
    "if (prediction<=0.5):print(\"NO\")\n",
    "elif (prediction>0.5):print(\"Yes\")"
   ]
  },
  {
   "cell_type": "code",
   "execution_count": 107,
   "metadata": {
    "colab": {
     "base_uri": "https://localhost:8080/"
    },
    "id": "d7nZBcEStRQx",
    "outputId": "b3202a6e-37ff-403f-db42-ce3bb493fc6d"
   },
   "outputs": [
    {
     "name": "stdout",
     "output_type": "stream",
     "text": [
      "No\n"
     ]
    }
   ],
   "source": [
    "prediction=model.predict(np.array([[8,4.5,1.5,2.5,1.5,2.5,1.5,2.5,1.5,1.5]]))\n",
    "#labels=np.argmax(prediction,axis=-1)\n",
    "labels=(prediction>0.5).astype(np.int)\n",
    "if (labels==1):print(\"Yes\")\n",
    "elif (labels==0):print(\"No\")"
   ]
  },
  {
   "cell_type": "code",
   "execution_count": 107,
   "metadata": {
    "id": "sZiKFynbwnBg"
   },
   "outputs": [],
   "source": []
  }
 ],
 "metadata": {
  "colab": {
   "name": "rmsprop",
   "provenance": []
  },
  "kernelspec": {
   "display_name": "Python 3",
   "language": "python",
   "name": "python3"
  },
  "language_info": {
   "codemirror_mode": {
    "name": "ipython",
    "version": 3
   },
   "file_extension": ".py",
   "mimetype": "text/x-python",
   "name": "python",
   "nbconvert_exporter": "python",
   "pygments_lexer": "ipython3",
   "version": "3.7.4"
  }
 },
 "nbformat": 4,
 "nbformat_minor": 1
}
